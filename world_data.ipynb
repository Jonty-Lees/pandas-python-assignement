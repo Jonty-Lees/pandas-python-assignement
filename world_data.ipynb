{
 "cells": [
  {
   "cell_type": "markdown",
   "metadata": {},
   "source": [
    "# World Data Assignement\n"
   ]
  },
  {
   "cell_type": "markdown",
   "metadata": {},
   "source": []
  },
  {
   "cell_type": "code",
   "execution_count": 7,
   "metadata": {},
   "outputs": [
    {
     "name": "stdout",
     "output_type": "stream",
     "text": [
      "Requirement already satisfied: pandas in ./env/lib/python3.10/site-packages (1.3.4)\n",
      "Requirement already satisfied: pytz>=2017.3 in ./env/lib/python3.10/site-packages (from pandas) (2021.3)\n",
      "Requirement already satisfied: numpy>=1.21.0 in ./env/lib/python3.10/site-packages (from pandas) (1.21.4)\n",
      "Requirement already satisfied: python-dateutil>=2.7.3 in ./env/lib/python3.10/site-packages (from pandas) (2.8.2)\n",
      "Requirement already satisfied: six>=1.5 in ./env/lib/python3.10/site-packages (from python-dateutil>=2.7.3->pandas) (1.16.0)\n"
     ]
    }
   ],
   "source": [
    "! pip install pandas"
   ]
  },
  {
   "cell_type": "code",
   "execution_count": 8,
   "metadata": {},
   "outputs": [],
   "source": [
    "import pandas as pd"
   ]
  },
  {
   "cell_type": "code",
   "execution_count": 9,
   "metadata": {},
   "outputs": [],
   "source": [
    "world_data = pd.read_csv('literacy.csv', encoding=\"ISO-8859-1\")"
   ]
  },
  {
   "cell_type": "markdown",
   "metadata": {},
   "source": [
    "Load the data in the CSV List the columns Get the number of rows & columns "
   ]
  },
  {
   "cell_type": "code",
   "execution_count": 10,
   "metadata": {},
   "outputs": [
    {
     "name": "stdout",
     "output_type": "stream",
     "text": [
      "In this database, there are 56255 rows and 7 columns\n"
     ]
    }
   ],
   "source": [
    "rows = world_data.shape[0]\n",
    "cols = world_data.shape[1]\n",
    "\n",
    "print(f'In this database, there are {rows} rows and {cols} columns')\n"
   ]
  },
  {
   "cell_type": "markdown",
   "metadata": {},
   "source": [
    "Describe the data - what's the best and worse country/year combination "
   ]
  },
  {
   "cell_type": "code",
   "execution_count": 22,
   "metadata": {},
   "outputs": [
    {
     "name": "stdout",
     "output_type": "stream",
     "text": [
      "Best male literacy rate/ year combination\n",
      " Entity      Year\n",
      "Andorra     2015    100.0\n",
      "Greenland   2015    100.0\n",
      "Uzbekistan  2015    100.0\n",
      "            2014    100.0\n",
      "            2013    100.0\n",
      "Name: Youth literacy rate, population 15-24 years, male (%), dtype: float64 \n",
      "\n",
      "Best female literacy rate/ year combination\n",
      " Entity      Year\n",
      "Uzbekistan  2014    100.0\n",
      "Andorra     2015    100.0\n",
      "Uzbekistan  2015    100.0\n",
      "Azerbaijan  2007    100.0\n",
      "Uzbekistan  2013    100.0\n",
      "Name: Youth literacy rate, population 15-24 years, female (%), dtype: float64\n"
     ]
    }
   ],
   "source": [
    "best_combo_male = world_data.groupby(['Entity', 'Year'])[\"Youth literacy rate, population 15-24 years, male (%)\"].max().sort_values(ascending=False)\n",
    "best_combo_female = world_data.groupby(['Entity', 'Year'])[\"Youth literacy rate, population 15-24 years, female (%)\"].max().sort_values(ascending=False)\n",
    "\n",
    "print('Best male literacy rate/ year combination\\n', best_combo_male.head(5), '\\n')\n",
    "print('Best female literacy rate/ year combination\\n', best_combo_female.head(5))\n"
   ]
  },
  {
   "cell_type": "code",
   "execution_count": 20,
   "metadata": {},
   "outputs": [
    {
     "name": "stdout",
     "output_type": "stream",
     "text": [
      "Worst male literacy rate/ year combination\n",
      " Entity        Year\n",
      "Burkina Faso  1975    22.377131\n",
      "              1996    25.478260\n",
      "Niger         2001    26.230060\n",
      "Chad          1993    26.246229\n",
      "Mali          1976    26.665630\n",
      "Name: Youth literacy rate, population 15-24 years, male (%), dtype: float64 \n",
      "\n",
      "Worst female literacy rate/ year combination\n",
      " Entity        Year\n",
      "Burkina Faso  1975     6.66406\n",
      "Chad          1993     8.94584\n",
      "Afghanistan   1979    11.14280\n",
      "Guinea        1996    13.47280\n",
      "Mali          1976    13.47465\n",
      "Name: Youth literacy rate, population 15-24 years, female (%), dtype: float64\n"
     ]
    }
   ],
   "source": [
    "worst_combo_male = world_data.groupby(['Entity', 'Year'])[\"Youth literacy rate, population 15-24 years, male (%)\"].min().sort_values(ascending=True)\n",
    "worst_combo_female = world_data.groupby(['Entity', 'Year'])[\"Youth literacy rate, population 15-24 years, female (%)\"].min().sort_values(ascending=True)\n",
    "\n",
    "print('Worst male literacy rate/ year combination\\n', worst_combo_male.head(5), '\\n')\n",
    "print('Worst female literacy rate/ year combination\\n', worst_combo_female.head(5))\n"
   ]
  },
  {
   "cell_type": "markdown",
   "metadata": {},
   "source": [
    "Filter the data for the year 1980 and order the result by decreasing value "
   ]
  },
  {
   "cell_type": "code",
   "execution_count": 28,
   "metadata": {},
   "outputs": [
    {
     "data": {
      "text/html": [
       "<div>\n",
       "<style scoped>\n",
       "    .dataframe tbody tr th:only-of-type {\n",
       "        vertical-align: middle;\n",
       "    }\n",
       "\n",
       "    .dataframe tbody tr th {\n",
       "        vertical-align: top;\n",
       "    }\n",
       "\n",
       "    .dataframe thead th {\n",
       "        text-align: right;\n",
       "    }\n",
       "</style>\n",
       "<table border=\"1\" class=\"dataframe\">\n",
       "  <thead>\n",
       "    <tr style=\"text-align: right;\">\n",
       "      <th></th>\n",
       "      <th>Entity</th>\n",
       "      <th>Code</th>\n",
       "      <th>Year</th>\n",
       "      <th>Youth literacy rate, population 15-24 years, male (%)</th>\n",
       "      <th>Youth literacy rate, population 15-24 years, female (%)</th>\n",
       "      <th>Total population (Gapminder, HYDE &amp; UN)</th>\n",
       "      <th>Continent</th>\n",
       "    </tr>\n",
       "  </thead>\n",
       "  <tbody>\n",
       "    <tr>\n",
       "      <th>219</th>\n",
       "      <td>Afghanistan</td>\n",
       "      <td>AFG</td>\n",
       "      <td>1980</td>\n",
       "      <td>NaN</td>\n",
       "      <td>NaN</td>\n",
       "      <td>13356500.0</td>\n",
       "      <td>NaN</td>\n",
       "    </tr>\n",
       "    <tr>\n",
       "      <th>477</th>\n",
       "      <td>Africa</td>\n",
       "      <td>NaN</td>\n",
       "      <td>1980</td>\n",
       "      <td>NaN</td>\n",
       "      <td>NaN</td>\n",
       "      <td>476386225.0</td>\n",
       "      <td>NaN</td>\n",
       "    </tr>\n",
       "    <tr>\n",
       "      <th>741</th>\n",
       "      <td>Albania</td>\n",
       "      <td>ALB</td>\n",
       "      <td>1980</td>\n",
       "      <td>NaN</td>\n",
       "      <td>NaN</td>\n",
       "      <td>2682697.0</td>\n",
       "      <td>NaN</td>\n",
       "    </tr>\n",
       "    <tr>\n",
       "      <th>1000</th>\n",
       "      <td>Algeria</td>\n",
       "      <td>DZA</td>\n",
       "      <td>1980</td>\n",
       "      <td>NaN</td>\n",
       "      <td>NaN</td>\n",
       "      <td>19221659.0</td>\n",
       "      <td>NaN</td>\n",
       "    </tr>\n",
       "    <tr>\n",
       "      <th>1038</th>\n",
       "      <td>American Samoa</td>\n",
       "      <td>ASM</td>\n",
       "      <td>1980</td>\n",
       "      <td>97.888618</td>\n",
       "      <td>97.443649</td>\n",
       "      <td>32648.0</td>\n",
       "      <td>NaN</td>\n",
       "    </tr>\n",
       "    <tr>\n",
       "      <th>1371</th>\n",
       "      <td>Andorra</td>\n",
       "      <td>AND</td>\n",
       "      <td>1980</td>\n",
       "      <td>NaN</td>\n",
       "      <td>NaN</td>\n",
       "      <td>36063.0</td>\n",
       "      <td>NaN</td>\n",
       "    </tr>\n",
       "    <tr>\n",
       "      <th>1630</th>\n",
       "      <td>Angola</td>\n",
       "      <td>AGO</td>\n",
       "      <td>1980</td>\n",
       "      <td>NaN</td>\n",
       "      <td>NaN</td>\n",
       "      <td>8341290.0</td>\n",
       "      <td>NaN</td>\n",
       "    </tr>\n",
       "    <tr>\n",
       "      <th>1749</th>\n",
       "      <td>Anguilla</td>\n",
       "      <td>AIA</td>\n",
       "      <td>1980</td>\n",
       "      <td>NaN</td>\n",
       "      <td>NaN</td>\n",
       "      <td>7284.0</td>\n",
       "      <td>NaN</td>\n",
       "    </tr>\n",
       "    <tr>\n",
       "      <th>2009</th>\n",
       "      <td>Antigua and Barbuda</td>\n",
       "      <td>ATG</td>\n",
       "      <td>1980</td>\n",
       "      <td>NaN</td>\n",
       "      <td>NaN</td>\n",
       "      <td>61861.0</td>\n",
       "      <td>NaN</td>\n",
       "    </tr>\n",
       "    <tr>\n",
       "      <th>2081</th>\n",
       "      <td>Argentina</td>\n",
       "      <td>ARG</td>\n",
       "      <td>1980</td>\n",
       "      <td>96.459221</td>\n",
       "      <td>97.302483</td>\n",
       "      <td>27896532.0</td>\n",
       "      <td>NaN</td>\n",
       "    </tr>\n",
       "  </tbody>\n",
       "</table>\n",
       "</div>"
      ],
      "text/plain": [
       "                   Entity Code  Year  \\\n",
       "219           Afghanistan  AFG  1980   \n",
       "477                Africa  NaN  1980   \n",
       "741               Albania  ALB  1980   \n",
       "1000              Algeria  DZA  1980   \n",
       "1038       American Samoa  ASM  1980   \n",
       "1371              Andorra  AND  1980   \n",
       "1630               Angola  AGO  1980   \n",
       "1749             Anguilla  AIA  1980   \n",
       "2009  Antigua and Barbuda  ATG  1980   \n",
       "2081            Argentina  ARG  1980   \n",
       "\n",
       "      Youth literacy rate, population 15-24 years, male (%)  \\\n",
       "219                                                 NaN       \n",
       "477                                                 NaN       \n",
       "741                                                 NaN       \n",
       "1000                                                NaN       \n",
       "1038                                          97.888618       \n",
       "1371                                                NaN       \n",
       "1630                                                NaN       \n",
       "1749                                                NaN       \n",
       "2009                                                NaN       \n",
       "2081                                          96.459221       \n",
       "\n",
       "      Youth literacy rate, population 15-24 years, female (%)  \\\n",
       "219                                                 NaN         \n",
       "477                                                 NaN         \n",
       "741                                                 NaN         \n",
       "1000                                                NaN         \n",
       "1038                                          97.443649         \n",
       "1371                                                NaN         \n",
       "1630                                                NaN         \n",
       "1749                                                NaN         \n",
       "2009                                                NaN         \n",
       "2081                                          97.302483         \n",
       "\n",
       "      Total population (Gapminder, HYDE & UN) Continent  \n",
       "219                                13356500.0       NaN  \n",
       "477                               476386225.0       NaN  \n",
       "741                                 2682697.0       NaN  \n",
       "1000                               19221659.0       NaN  \n",
       "1038                                  32648.0       NaN  \n",
       "1371                                  36063.0       NaN  \n",
       "1630                                8341290.0       NaN  \n",
       "1749                                   7284.0       NaN  \n",
       "2009                                  61861.0       NaN  \n",
       "2081                               27896532.0       NaN  "
      ]
     },
     "execution_count": 28,
     "metadata": {},
     "output_type": "execute_result"
    }
   ],
   "source": [
    "world_data_1980s = world_data.loc[(world_data['Year']==1980)].sort_values(\"Entity\", ascending=True)\n",
    "\n",
    "world_data_1980s.head(10)"
   ]
  },
  {
   "cell_type": "markdown",
   "metadata": {},
   "source": [
    "Group the data by year - what's the mean value for year 1980? What's the difference with 2000?"
   ]
  },
  {
   "cell_type": "code",
   "execution_count": 62,
   "metadata": {},
   "outputs": [
    {
     "ename": "SyntaxError",
     "evalue": "unmatched ']' (2337481067.py, line 1)",
     "output_type": "error",
     "traceback": [
      "\u001b[0;36m  File \u001b[0;32m\"/var/folders/ds/nm8dwbh5109033lyrgnmq7zc0000gn/T/ipykernel_47319/2337481067.py\"\u001b[0;36m, line \u001b[0;32m1\u001b[0m\n\u001b[0;31m    avg_1980_female = world_data['Year'] == 1980]['Youth literacy rate, population 15-24 years, female (%)'].mean()\u001b[0m\n\u001b[0m                                                ^\u001b[0m\n\u001b[0;31mSyntaxError\u001b[0m\u001b[0;31m:\u001b[0m unmatched ']'\n"
     ]
    }
   ],
   "source": [
    "avg_1980_female = world_data[world_data['Year'] == 1980]['Youth literacy rate, population 15-24 years, female (%)'].mean()\n",
    "avg_2000_female = world_data[world_data['Year'] == 2000]['Youth literacy rate, population 15-24 years, female (%)'].mean()\n"
   ]
  },
  {
   "cell_type": "code",
   "execution_count": null,
   "metadata": {},
   "outputs": [],
   "source": []
  },
  {
   "cell_type": "code",
   "execution_count": null,
   "metadata": {},
   "outputs": [],
   "source": []
  }
 ],
 "metadata": {
  "interpreter": {
   "hash": "aee8b7b246df8f9039afb4144a1f6fd8d2ca17a180786b69acc140d282b71a49"
  },
  "kernelspec": {
   "display_name": "Python 3.10.0 64-bit",
   "language": "python",
   "name": "python3"
  },
  "language_info": {
   "codemirror_mode": {
    "name": "ipython",
    "version": 3
   },
   "file_extension": ".py",
   "mimetype": "text/x-python",
   "name": "python",
   "nbconvert_exporter": "python",
   "pygments_lexer": "ipython3",
   "version": "3.10.0"
  },
  "orig_nbformat": 4
 },
 "nbformat": 4,
 "nbformat_minor": 2
}
